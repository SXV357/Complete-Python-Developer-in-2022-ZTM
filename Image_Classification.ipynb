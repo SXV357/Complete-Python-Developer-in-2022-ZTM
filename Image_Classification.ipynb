{
  "nbformat": 4,
  "nbformat_minor": 0,
  "metadata": {
    "colab": {
      "provenance": [],
      "authorship_tag": "ABX9TyOsXsIo04raSWl1dfs/zNNa",
      "include_colab_link": true
    },
    "kernelspec": {
      "name": "python3",
      "display_name": "Python 3"
    },
    "language_info": {
      "name": "python"
    }
  },
  "cells": [
    {
      "cell_type": "markdown",
      "metadata": {
        "id": "view-in-github",
        "colab_type": "text"
      },
      "source": [
        "<a href=\"https://colab.research.google.com/github/SXV357/Complete-Python-Developer-in-2022-ZTM/blob/main/Image_Classification.ipynb\" target=\"_parent\"><img src=\"https://colab.research.google.com/assets/colab-badge.svg\" alt=\"Open In Colab\"/></a>"
      ]
    },
    {
      "cell_type": "code",
      "execution_count": 17,
      "metadata": {
        "id": "rp7TPDorHCfU",
        "colab": {
          "base_uri": "https://localhost:8080/"
        },
        "outputId": "8cc6929f-86d1-473c-b16e-66d889abbac2"
      },
      "outputs": [
        {
          "output_type": "stream",
          "name": "stdout",
          "text": [
            "Looking in indexes: https://pypi.org/simple, https://us-python.pkg.dev/colab-wheels/public/simple/\n",
            "Requirement already satisfied: imageai in /usr/local/lib/python3.10/dist-packages (3.0.3)\n"
          ]
        }
      ],
      "source": [
        "!pip install imageai --upgrade"
      ]
    },
    {
      "cell_type": "code",
      "source": [
        "from imageai.Classification import ImageClassification"
      ],
      "metadata": {
        "id": "fc9wfM3_IHOG"
      },
      "execution_count": 18,
      "outputs": []
    },
    {
      "cell_type": "code",
      "source": [
        "prediction = ImageClassification()\n",
        "prediction.setModelTypeAsResNet50()\n",
        "prediction.setModelPath(\"resnet50-19c8e357.pth\")\n",
        "prediction.loadModel()"
      ],
      "metadata": {
        "id": "jm7XlNcaIM8s"
      },
      "execution_count": 19,
      "outputs": []
    },
    {
      "cell_type": "code",
      "source": [
        "predictions, probabilities = prediction.classifyImage(\"godzilla.jpg\")\n",
        "for pred, prob in zip(predictions, probabilities):\n",
        "  print(f'This image is {round(prob, 2)}% likely to be a {pred}')"
      ],
      "metadata": {
        "colab": {
          "base_uri": "https://localhost:8080/"
        },
        "id": "m3rRAHevI7NO",
        "outputId": "96d2c42b-7a40-4b85-9451-cdeef946f3c4"
      },
      "execution_count": 20,
      "outputs": [
        {
          "output_type": "stream",
          "name": "stdout",
          "text": [
            "This image is 71.91% likely to be a American alligator\n",
            "This image is 12.97% likely to be a African crocodile\n",
            "This image is 11.6% likely to be a common iguana\n",
            "This image is 3.1% likely to be a triceratops\n",
            "This image is 0.16% likely to be a frilled lizard\n"
          ]
        }
      ]
    },
    {
      "cell_type": "code",
      "source": [
        "# Predictions of the same image using the other 3 models\n",
        "model_paths = [\"densenet121-a639ec97.pth\", \"inception_v3_google-1a9a5a14.pth\", \"mobilenet_v2-b0353104.pth\"]\n",
        "for i in range(3):\n",
        "  match_prediction = ImageClassification()\n",
        "  if i == 0:\n",
        "    match_prediction.setModelTypeAsDenseNet121()\n",
        "    match_prediction.setModelPath(model_paths[0])\n",
        "  elif i == 1:\n",
        "    match_prediction.setModelTypeAsInceptionV3()\n",
        "    match_prediction.setModelPath(model_paths[1])\n",
        "  else:\n",
        "    match_prediction.setModelTypeAsMobileNetV2()\n",
        "    match_prediction.setModelPath(model_paths[2])\n",
        "  match_prediction.loadModel()\n",
        "  new_predictions, new_probabilities = match_prediction.classifyImage(\"godzilla.jpg\")\n",
        "  print(f'Using the {model_paths[i][:model_paths[i].index(\"-\")]} model, this image is most likely to be a {new_predictions[0]} with an estimated percentage of {new_probabilities[0]}%')"
      ],
      "metadata": {
        "colab": {
          "base_uri": "https://localhost:8080/"
        },
        "id": "3KvwECHjJiip",
        "outputId": "47ef95b5-7314-4307-d228-3ebbfe28c8cf"
      },
      "execution_count": 21,
      "outputs": [
        {
          "output_type": "stream",
          "name": "stdout",
          "text": [
            "Using the densenet121 model, this image is most likely to be a common iguana with an estimated percentage of 58.9592%\n",
            "Using the inception_v3_google model, this image is most likely to be a common iguana with an estimated percentage of 76.3731%\n",
            "Using the mobilenet_v2 model, this image is most likely to be a common iguana with an estimated percentage of 46.9829%\n"
          ]
        }
      ]
    }
  ]
}