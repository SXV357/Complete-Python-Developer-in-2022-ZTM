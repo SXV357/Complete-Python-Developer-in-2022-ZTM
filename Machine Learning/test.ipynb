{
 "cells": [
  {
   "cell_type": "code",
   "execution_count": 1,
   "metadata": {},
   "outputs": [],
   "source": [
    "import pandas as pd"
   ]
  },
  {
   "cell_type": "code",
   "execution_count": 2,
   "metadata": {},
   "outputs": [
    {
     "name": "stdout",
     "output_type": "stream",
     "text": [
      "(16710, 65)\n",
      "         Value   Wage\n",
      "0      €107.5M  €250K\n",
      "1         €93M  €140K\n",
      "2       €44.5M  €135K\n",
      "3      €125.5M  €350K\n",
      "4         €37M   €45K\n",
      "...        ...    ...\n",
      "16705    €100K    €1K\n",
      "16706    €180K   €550\n",
      "16707    €100K   €700\n",
      "16708    €110K   €500\n",
      "16709       €0     €0\n",
      "\n",
      "[16710 rows x 2 columns]\n"
     ]
    },
    {
     "data": {
      "text/plain": [
       "<AxesSubplot: >"
      ]
     },
     "execution_count": 2,
     "metadata": {},
     "output_type": "execute_result"
    },
    {
     "data": {
      "image/png": "[encoded data removed]",
      "text/plain": [
       "<Figure size 640x480 with 1 Axes>"
      ]
     },
     "metadata": {},
     "output_type": "display_data"
    }
   ],
   "source": [
    "df = pd.read_csv(\"C:/Users/14058/OneDrive/Desktop/Programming/Python Stuff/Machine Learning/FIFA22_official_data.csv\")\n",
    "print(df.shape) # 65 columns and 16710 rows\n",
    "df.describe() # returns statistical information about the dataset such as mean, standard deviation, min/max, etc.\n",
    "print(df[[\"Value\", \"Wage\"]]) # returns values from the two columns specified\n",
    "df.sort_values(\"Agility\", ascending = False)\n",
    "df[\"Agility\"].hist()\n"
   ]
  },
  {
   "cell_type": "code",
   "execution_count": 3,
   "metadata": {},
   "outputs": [
    {
     "name": "stdout",
     "output_type": "stream",
     "text": [
      "16710\n",
      "https://cdn.sofifa.com/players/212/198/22_60.png\n",
      "https://cdn.sofifa.com/players/209/658/22_60.png\n",
      "https://cdn.sofifa.com/players/176/580/22_60.png\n",
      "https://cdn.sofifa.com/players/192/985/22_60.png\n",
      "https://cdn.sofifa.com/players/224/334/22_60.png\n",
      "https://cdn.sofifa.com/players/212/622/22_60.png\n",
      "https://cdn.sofifa.com/players/187/961/22_60.png\n",
      "https://cdn.sofifa.com/players/181/291/22_60.png\n",
      "https://cdn.sofifa.com/players/208/333/22_60.png\n",
      "https://cdn.sofifa.com/players/194/765/22_60.png\n"
     ]
    },
    {
     "data": {
      "text/plain": [
       "ID                                                               212198\n",
       "Name                                                    Bruno Fernandes\n",
       "Age                                                                  26\n",
       "Photo                  https://cdn.sofifa.com/players/212/198/22_60.png\n",
       "Nationality                                                    Portugal\n",
       "                                             ...                       \n",
       "GKReflexes                                                         14.0\n",
       "Best Position                                                       CAM\n",
       "Best Overall Rating                                                88.0\n",
       "Release Clause                                                  €206.9M\n",
       "DefensiveAwareness                                                 72.0\n",
       "Name: 0, Length: 65, dtype: object"
      ]
     },
     "execution_count": 3,
     "metadata": {},
     "output_type": "execute_result"
    }
   ],
   "source": [
    "print(len(df))\n",
    "photo_links_arr = df['Photo'].head(10).values # grab the first 10 links and save it to an array\n",
    "for link in photo_links_arr:\n",
    "    print(link)\n",
    "len(df[df[\"ID\"] > 250000]) # to filter out all values in the ID column greater than 250000\n",
    "df.iloc[0,:] # gets the first row in the dataframe(the first number before the comma controls which row to get)"
   ]
  },
  {
   "cell_type": "code",
   "execution_count": 12,
   "metadata": {},
   "outputs": [
    {
     "name": "stdout",
     "output_type": "stream",
     "text": [
      "The player with the highest market cap and the least salary is Fernandes with jersey number 18\n"
     ]
    }
   ],
   "source": [
    "# Grab the player with the highest market value but one that has the lowest salary\n",
    "names, mv, wages = df[\"Name\"].values, df[\"Value\"].values, df[\"Wage\"].values\n",
    "# print(str(len(names)) + \", \" + str(len(mv)) + \", \" + str(len(wages)))\n",
    "\n",
    "# Process market-value array\n",
    "for i in range(len(mv)):\n",
    "    if (isinstance(mv[i], float)):\n",
    "        mv[i] = mv[i] * 1000000.0\n",
    "    elif (isinstance(mv[i], str)):\n",
    "        curr = mv[i].split('€')[1]\n",
    "        if ('M' in curr):\n",
    "            mv[i] = float(curr[0:-1]) * 1000000.0\n",
    "        elif ('K' in curr):\n",
    "            mv[i] = float(curr[0:-1]) * 100000.0\n",
    "        else:\n",
    "            mv[i] = float(curr)\n",
    "\n",
    "# Process wages array\n",
    "for j in range(len(wages)):\n",
    "    if (isinstance(wages[j], str)):\n",
    "        wage = wages[j].split('€')[1]\n",
    "        if ('K' not in wage):\n",
    "            wages[j] = float(wage)\n",
    "        else:\n",
    "            wages[j] = float(wage[0:-1]) * 1000.0\n",
    "    else:\n",
    "        pass\n",
    "\n",
    "df[\"Value\"], df[\"Wage\"] = mv, wages\n",
    "modified_df = df.sort_values([\"Value\", \"Wage\"], ascending = [False, True])\n",
    "player = modified_df.iloc[0,1].replace('\\xa0', ' ')\n",
    "player = player[player.index(' ') + 1:]\n",
    "print(f'The player with the highest market cap and the least salary is {player} with jersey number {int(modified_df.iloc[0,21])}')"
   ]
  }
 ],
 "metadata": {
  "kernelspec": {
   "display_name": "Python 3",
   "language": "python",
   "name": "python3"
  },
  "language_info": {
   "codemirror_mode": {
    "name": "ipython",
    "version": 3
   },
   "file_extension": ".py",
   "mimetype": "text/x-python",
   "name": "python",
   "nbconvert_exporter": "python",
   "pygments_lexer": "ipython3",
   "version": "3.10.8"
  },
  "orig_nbformat": 4
 },
 "nbformat": 4,
 "nbformat_minor": 2
}
