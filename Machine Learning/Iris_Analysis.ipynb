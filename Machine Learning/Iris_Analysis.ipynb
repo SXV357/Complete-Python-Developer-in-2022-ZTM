{
  "nbformat": 4,
  "nbformat_minor": 0,
  "metadata": {
    "colab": {
      "provenance": [],
      "authorship_tag": "ABX9TyPq0dvY4r8Fvpp7aJgNZ8e5",
      "include_colab_link": true
    },
    "kernelspec": {
      "name": "python3",
      "display_name": "Python 3"
    },
    "language_info": {
      "name": "python"
    }
  },
  "cells": [
    {
      "cell_type": "markdown",
      "metadata": {
        "id": "view-in-github",
        "colab_type": "text"
      },
      "source": [
        "<a href=\"https://colab.research.google.com/github/SXV357/Complete-Python-Developer-in-2022-ZTM/blob/main/Iris_Analysis.ipynb\" target=\"_parent\"><img src=\"https://colab.research.google.com/assets/colab-badge.svg\" alt=\"Open In Colab\"/></a>"
      ]
    },
    {
      "cell_type": "code",
      "execution_count": null,
      "metadata": {
        "id": "QJp-YZond2GD"
      },
      "outputs": [],
      "source": [
        "from sklearn.datasets import load_iris\n",
        "from sklearn.model_selection import train_test_split\n",
        "from sklearn.neighbors import KNeighborsClassifier\n",
        "from sklearn.metrics import accuracy_score\n",
        "from joblib import dump, load\n",
        "import random"
      ]
    },
    {
      "cell_type": "code",
      "source": [
        "data = load_iris()\n",
        "X, y = data.data, data.target\n",
        "properties, classes = data.feature_names, data.target_names\n",
        "\n",
        "print(properties, classes)\n",
        "\n",
        "X_train, X_test, y_train, y_test = train_test_split(X, y, test_size = 0.4)\n",
        "print(X_train.shape, X_test.shape) # (rows, columns)\n",
        "print(len(y_train), len(y_test))"
      ],
      "metadata": {
        "colab": {
          "base_uri": "https://localhost:8080/"
        },
        "id": "Gm9hn4i6eAIA",
        "outputId": "46cf04e9-f98b-4ea7-a84c-35acc10f4767"
      },
      "execution_count": null,
      "outputs": [
        {
          "output_type": "stream",
          "name": "stdout",
          "text": [
            "['sepal length (cm)', 'sepal width (cm)', 'petal length (cm)', 'petal width (cm)'] ['setosa' 'versicolor' 'virginica']\n",
            "(90, 4) (60, 4)\n",
            "90 60\n"
          ]
        }
      ]
    },
    {
      "cell_type": "code",
      "source": [
        "knn = KNeighborsClassifier(n_neighbors=3).fit(X_train, y_train)\n",
        "print(y_pred := knn.predict(X_test))\n",
        "print(f'Predictions: {list(zip(y_pred, [classes[x] for x in y_pred]))}')\n",
        "print(f'Accuracy: {round((accuracy_score(y_test, y_pred) * 100), 2)}%')"
      ],
      "metadata": {
        "colab": {
          "base_uri": "https://localhost:8080/"
        },
        "id": "0HT_firJiIe8",
        "outputId": "aa122a2b-02c6-4bfc-a34b-dd29b881c328"
      },
      "execution_count": null,
      "outputs": [
        {
          "output_type": "stream",
          "name": "stdout",
          "text": [
            "[0 1 2 1 2 1 1 0 1 2 2 1 0 2 1 0 0 1 0 0 0 0 1 1 1 0 1 0 0 0 1 0 0 2 0 1 0\n",
            " 2 0 2 2 0 0 2 0 1 2 1 2 0 0 1 0 2 2 2 0 1 0 2]\n",
            "Predictions: [(0, 'setosa'), (1, 'versicolor'), (2, 'virginica'), (1, 'versicolor'), (2, 'virginica'), (1, 'versicolor'), (1, 'versicolor'), (0, 'setosa'), (1, 'versicolor'), (2, 'virginica'), (2, 'virginica'), (1, 'versicolor'), (0, 'setosa'), (2, 'virginica'), (1, 'versicolor'), (0, 'setosa'), (0, 'setosa'), (1, 'versicolor'), (0, 'setosa'), (0, 'setosa'), (0, 'setosa'), (0, 'setosa'), (1, 'versicolor'), (1, 'versicolor'), (1, 'versicolor'), (0, 'setosa'), (1, 'versicolor'), (0, 'setosa'), (0, 'setosa'), (0, 'setosa'), (1, 'versicolor'), (0, 'setosa'), (0, 'setosa'), (2, 'virginica'), (0, 'setosa'), (1, 'versicolor'), (0, 'setosa'), (2, 'virginica'), (0, 'setosa'), (2, 'virginica'), (2, 'virginica'), (0, 'setosa'), (0, 'setosa'), (2, 'virginica'), (0, 'setosa'), (1, 'versicolor'), (2, 'virginica'), (1, 'versicolor'), (2, 'virginica'), (0, 'setosa'), (0, 'setosa'), (1, 'versicolor'), (0, 'setosa'), (2, 'virginica'), (2, 'virginica'), (2, 'virginica'), (0, 'setosa'), (1, 'versicolor'), (0, 'setosa'), (2, 'virginica')]\n",
            "Accuracy: 95.0%\n"
          ]
        }
      ]
    },
    {
      "cell_type": "code",
      "source": [
        "param_grid_knn = {\n",
        "    \"n_neighbors\": [2, 5, 10, 15],                                   \n",
        "    \"algorithm\": ['ball_tree', 'kd_tree', 'brute', 'auto'],          \n",
        "    \"metric\": ['minkowski', 'euclidean', 'manhattan', 'chebyshev']\n",
        "}\n",
        "for i in range(0, 4):\n",
        "  neighbors, algorithm, metric = param_grid_knn[\"n_neighbors\"][i], param_grid_knn[\"algorithm\"][i], param_grid_knn[\"metric\"][i]\n",
        "  knn_modified = KNeighborsClassifier(n_neighbors = neighbors, algorithm= algorithm, metric = metric).fit(X_train, y_train)\n",
        "  y_pred_modified = knn_modified.predict(X_test)\n",
        "  print(f'Accuracy using {neighbors} neighbors, {algorithm} algorithm and {metric} metric : {round((accuracy_score(y_test, y_pred_modified) * 100), 2)}%')"
      ],
      "metadata": {
        "colab": {
          "base_uri": "https://localhost:8080/"
        },
        "id": "Vltci-06m5F9",
        "outputId": "ea51633e-3ac6-4446-b1f5-57b1e241b5b4"
      },
      "execution_count": null,
      "outputs": [
        {
          "output_type": "stream",
          "name": "stdout",
          "text": [
            "Accuracy using 2 neighbors, ball_tree algorithm and minkowski metric : 95.0%\n",
            "Accuracy using 5 neighbors, kd_tree algorithm and euclidean metric : 96.67%\n",
            "Accuracy using 10 neighbors, brute algorithm and manhattan metric : 96.67%\n",
            "Accuracy using 15 neighbors, auto algorithm and chebyshev metric : 95.0%\n"
          ]
        }
      ]
    },
    {
      "cell_type": "code",
      "source": [
        "custom_inputs = []\n",
        "for j in range(10):\n",
        "  custom_inputs.append([random.uniform(1.0, 5.0), random.uniform(1.0, 5.0), random.uniform(1.0, 5.0), random.uniform(1.0, 5.0)])\n",
        "predictions = knn.predict(custom_inputs)\n",
        "class_predictions = [classes[k] for k in predictions]\n",
        "print(class_predictions)\n"
      ],
      "metadata": {
        "colab": {
          "base_uri": "https://localhost:8080/"
        },
        "id": "tycC7_-Psipd",
        "outputId": "39e4c5c6-6575-483e-9af2-b278bfb7ca66"
      },
      "execution_count": null,
      "outputs": [
        {
          "output_type": "stream",
          "name": "stdout",
          "text": [
            "['setosa', 'versicolor', 'virginica', 'versicolor', 'setosa', 'versicolor', 'setosa', 'versicolor', 'versicolor', 'versicolor']\n"
          ]
        }
      ]
    },
    {
      "cell_type": "code",
      "source": [
        "dump(knn, 'iris_classifier.joblib') # way to persist the model so that it doesn't have to be re-trained using the fit function"
      ],
      "metadata": {
        "colab": {
          "base_uri": "https://localhost:8080/"
        },
        "id": "OuFimEdyA08h",
        "outputId": "ced4c911-8345-4af5-dad1-2102b1e010ff"
      },
      "execution_count": null,
      "outputs": [
        {
          "output_type": "execute_result",
          "data": {
            "text/plain": [
              "['iris_classifier.joblib']"
            ]
          },
          "metadata": {},
          "execution_count": 11
        }
      ]
    },
    {
      "cell_type": "code",
      "source": [
        "saved_model = load('iris_classifier.joblib')\n",
        "print(classes[saved_model.predict([[3.2, 4.5, 1.75, 2.8]])])\n",
        "print(classes[saved_model.predict([[4.5, 5.3, 2.3, 3]])])"
      ],
      "metadata": {
        "colab": {
          "base_uri": "https://localhost:8080/"
        },
        "id": "0wD5TRmNA-aV",
        "outputId": "e6b2aa75-b9c5-468c-f912-e8ec9e553e9b"
      },
      "execution_count": null,
      "outputs": [
        {
          "output_type": "stream",
          "name": "stdout",
          "text": [
            "['setosa']\n",
            "['setosa']\n"
          ]
        }
      ]
    }
  ]
}